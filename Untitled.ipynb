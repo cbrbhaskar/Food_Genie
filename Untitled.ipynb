{
 "cells": [
  {
   "cell_type": "code",
   "execution_count": null,
   "id": "4090aad1-59c2-4313-acc5-3398d9e6d244",
   "metadata": {},
   "outputs": [
    {
     "name": "stdout",
     "output_type": "stream",
     "text": [
      "📊 Actual Column Names in CSV: ['Unnamed: 0.1', 'food', 'serving_size', 'Caloric Value', 'Fat', 'Saturated Fats', 'Monounsaturated Fats', 'Polyunsaturated Fats', 'Carbohydrates', 'Sugars', 'Protein', 'Dietary Fiber', 'Cholesterol', 'Sodium', 'Water', 'Vitamin A', 'Vitamin B1', 'Vitamin B11', 'Vitamin B12', 'Vitamin B2', 'Vitamin B3', 'Vitamin B5', 'Vitamin B6', 'Vitamin C', 'Vitamin D', 'Vitamin E', 'Vitamin K', 'Calcium', 'Copper', 'Iron', 'Magnesium', 'Manganese', 'Phosphorus', 'Potassium', 'Selenium', 'Zinc', 'Nutrition Density', 'Category']\n"
     ]
    }
   ],
   "source": [
    "from flask import Flask, render_template, request\n",
    "import pandas as pd\n",
    "import os\n",
    "\n",
    "app = Flask(__name__)\n",
    "\n",
    "# Define CSV path\n",
    "csv_path = os.path.join(os.getcwd(), \"MERGED_FOOD_DATA_WITH_GRAMS.csv\")\n",
    "\n",
    "# Load CSV data\n",
    "df = pd.read_csv(csv_path, encoding=\"utf-8\")\n",
    "\n",
    "# Get actual column names\n",
    "actual_columns = df.columns.tolist()\n",
    "print(\"📊 Actual Column Names in CSV:\", actual_columns)\n",
    "\n",
    "# Use the correct column name\n",
    "if \"food_name\" in df.columns:\n",
    "    food_column = \"food_name\"\n",
    "elif \"food\" in df.columns:\n",
    "    food_column = \"food\"\n",
    "else:\n",
    "    raise KeyError(f\"❌ ERROR: No valid 'food' column found in CSV. Available columns: {df.columns}\")\n",
    "\n",
    "@app.route(\"/\", methods=[\"GET\", \"POST\"])\n",
    "def index():\n",
    "    results = None\n",
    "    if request.method == \"POST\":\n",
    "        query = request.form.get(\"query\", \"\").strip().lower()\n",
    "        if query:\n",
    "            results = df[df[food_column].str.lower().str.contains(query, na=False)]\n",
    "    return render_template(\"index.html\", results=results)\n",
    "\n",
    "if __name__ == \"__main__\":\n",
    "    from waitress import serve\n",
    "    serve(app, host=\"0.0.0.0\", port=5000)\n"
   ]
  },
  {
   "cell_type": "code",
   "execution_count": null,
   "id": "05defa0a-1432-400f-aaa3-ed58f998b042",
   "metadata": {},
   "outputs": [],
   "source": []
  }
 ],
 "metadata": {
  "kernelspec": {
   "display_name": "Python 3 (ipykernel)",
   "language": "python",
   "name": "python3"
  },
  "language_info": {
   "codemirror_mode": {
    "name": "ipython",
    "version": 3
   },
   "file_extension": ".py",
   "mimetype": "text/x-python",
   "name": "python",
   "nbconvert_exporter": "python",
   "pygments_lexer": "ipython3",
   "version": "3.10.11"
  }
 },
 "nbformat": 4,
 "nbformat_minor": 5
}
